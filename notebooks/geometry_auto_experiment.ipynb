{
 "cells": [
  {
   "cell_type": "code",
   "execution_count": 1,
   "id": "3c2c92dd-6587-49e9-ae7c-83907157b0d0",
   "metadata": {},
   "outputs": [
    {
     "name": "stdout",
     "output_type": "stream",
     "text": [
      "/home/ext-daniel-packer/documents/noteboooks/neural-geometry\n"
     ]
    }
   ],
   "source": [
    "%load_ext autoreload\n",
    "%autoreload 2\n",
    "%cd .."
   ]
  },
  {
   "cell_type": "code",
   "execution_count": 3,
   "id": "01c0d7e8-4780-4b62-a2bb-dd7d6c97c76b",
   "metadata": {},
   "outputs": [
    {
     "name": "stderr",
     "output_type": "stream",
     "text": [
      "2023-12-19 19:54:49.472538: E external/local_xla/xla/stream_executor/cuda/cuda_dnn.cc:9261] Unable to register cuDNN factory: Attempting to register factory for plugin cuDNN when one has already been registered\n",
      "2023-12-19 19:54:49.472574: E external/local_xla/xla/stream_executor/cuda/cuda_fft.cc:607] Unable to register cuFFT factory: Attempting to register factory for plugin cuFFT when one has already been registered\n",
      "2023-12-19 19:54:49.473669: E external/local_xla/xla/stream_executor/cuda/cuda_blas.cc:1515] Unable to register cuBLAS factory: Attempting to register factory for plugin cuBLAS when one has already been registered\n",
      "2023-12-19 19:54:50.561628: W tensorflow/compiler/tf2tensorrt/utils/py_utils.cc:38] TF-TRT Warning: Could not find TensorRT\n",
      "2023-12-19 19:54:52.323730: W tensorflow/core/common_runtime/gpu/gpu_device.cc:2256] Cannot dlopen some GPU libraries. Please make sure the missing libraries mentioned above are installed properly if you would like to use GPU. Follow the guide at https://www.tensorflow.org/install/gpu for how to download and setup the required libraries for your platform.\n",
      "Skipping registering GPU devices...\n"
     ]
    }
   ],
   "source": [
    "from src.run_experiments import *\n",
    "from jax import random\n",
    "import matplotlib.pyplot as plt\n",
    "import numpy as np\n"
   ]
  },
  {
   "cell_type": "markdown",
   "id": "f3adf400-f81a-4f06-afbd-1ed716a31105",
   "metadata": {},
   "source": [
    "Varying the size of the hidden layer:"
   ]
  },
  {
   "cell_type": "code",
   "execution_count": null,
   "id": "841d3508-f124-4ff6-b88c-21c74109cfa4",
   "metadata": {},
   "outputs": [
    {
     "name": "stdout",
     "output_type": "stream",
     "text": [
      "working on layer size: 3\n",
      "\n",
      "---------------------------\n",
      "Loading Data\n",
      "Training model 1\n",
      "Training model 2\n",
      "Getting embeddings\n",
      "Computing OT\n",
      "test accuracy: 0.306\n",
      "working on layer size: 4\n",
      "\n",
      "---------------------------\n",
      "Loading Data\n",
      "Training model 1\n",
      "Training model 2\n",
      "Getting embeddings\n",
      "Computing OT\n",
      "test accuracy: 0.130\n",
      "working on layer size: 5\n",
      "\n",
      "---------------------------\n",
      "Loading Data\n",
      "Training model 1\n",
      "Training model 2\n",
      "Getting embeddings\n",
      "Computing OT\n",
      "test accuracy: 0.149\n",
      "working on layer size: 6\n",
      "\n",
      "---------------------------\n",
      "Loading Data\n",
      "Training model 1\n",
      "Training model 2\n",
      "Getting embeddings\n",
      "Computing OT\n",
      "test accuracy: 0.237\n",
      "working on layer size: 7\n",
      "\n",
      "---------------------------\n",
      "Loading Data\n",
      "Training model 1\n",
      "Training model 2\n",
      "Getting embeddings\n",
      "Computing OT\n",
      "test accuracy: 0.281\n",
      "working on layer size: 8\n",
      "\n",
      "---------------------------\n",
      "Loading Data\n",
      "Training model 1\n",
      "Training model 2\n",
      "Getting embeddings\n",
      "Computing OT\n",
      "test accuracy: 0.717\n",
      "working on layer size: 9\n",
      "\n",
      "---------------------------\n",
      "Loading Data\n",
      "Training model 1\n",
      "Training model 2\n",
      "Getting embeddings\n",
      "Computing OT\n",
      "test accuracy: 0.130\n",
      "working on layer size: 10\n",
      "\n",
      "---------------------------\n",
      "Loading Data\n",
      "Training model 1\n",
      "Training model 2\n",
      "Getting embeddings\n",
      "Computing OT\n",
      "test accuracy: 0.009\n",
      "working on layer size: 11\n",
      "\n",
      "---------------------------\n",
      "Loading Data\n",
      "Training model 1\n",
      "Training model 2\n",
      "Getting embeddings\n",
      "Computing OT\n",
      "test accuracy: 0.097\n",
      "working on layer size: 12\n",
      "\n",
      "---------------------------\n",
      "Loading Data\n",
      "Training model 1\n",
      "Training model 2\n",
      "Getting embeddings\n",
      "Computing OT\n",
      "test accuracy: 0.076\n",
      "working on layer size: 13\n",
      "\n",
      "---------------------------\n",
      "Loading Data\n",
      "Training model 1\n",
      "Training model 2\n",
      "Getting embeddings\n",
      "Computing OT\n",
      "test accuracy: 0.363\n",
      "working on layer size: 14\n",
      "\n",
      "---------------------------\n",
      "Loading Data\n",
      "Training model 1\n",
      "Training model 2\n",
      "Getting embeddings\n",
      "Computing OT\n",
      "test accuracy: 0.130\n",
      "working on layer size: 15\n",
      "\n",
      "---------------------------\n",
      "Loading Data\n",
      "Training model 1\n",
      "Training model 2\n",
      "Getting embeddings\n",
      "Computing OT\n",
      "test accuracy: 0.234\n",
      "working on layer size: 16\n",
      "\n",
      "---------------------------\n",
      "Loading Data\n",
      "Training model 1\n",
      "Training model 2\n",
      "Getting embeddings\n",
      "Computing OT\n",
      "test accuracy: 0.903\n",
      "working on layer size: 17\n",
      "\n",
      "---------------------------\n",
      "Loading Data\n",
      "Training model 1\n"
     ]
    }
   ],
   "source": [
    "hidden_layer_sizes = np.arange(3, 20)\n",
    "num_trials = 1\n",
    "\n",
    "output_array = np.zeros([hidden_layer_sizes.shape[0], num_trials])\n",
    "for layer_index, layer_size in enumerate(hidden_layer_sizes):\n",
    "    print(f\"working on layer size: {layer_size}\")\n",
    "    for i in range(num_trials):\n",
    "        rng = random.PRNGKey(i + 100 * layer_size)\n",
    "        test_accuracy = run_experiment(rng, [200, layer_size, 200], 2, verbose=True)\n",
    "\n",
    "        output_array[layer_index, i] = test_accuracy"
   ]
  },
  {
   "cell_type": "code",
   "execution_count": 21,
   "id": "3adb8d9a-b5e1-4a77-b10a-a00ff2fefbf7",
   "metadata": {},
   "outputs": [
    {
     "data": {
      "text/plain": [
       "array([0.006, 0.2  ])"
      ]
     },
     "execution_count": 21,
     "metadata": {},
     "output_type": "execute_result"
    },
    {
     "data": {
      "image/png": "[encoded data removed]",
      "text/plain": [
       "<Figure size 640x480 with 1 Axes>"
      ]
     },
     "metadata": {},
     "output_type": "display_data"
    }
   ],
   "source": [
    "plt.plot(output_"
   ]
  },
  {
   "cell_type": "code",
   "execution_count": null,
   "id": "8c2bcf11-d993-4739-b572-158212a41fb0",
   "metadata": {},
   "outputs": [],
   "source": []
  }
 ],
 "metadata": {
  "kernelspec": {
   "display_name": "Python (jax-env)",
   "language": "python",
   "name": "jaxkernel"
  },
  "language_info": {
   "codemirror_mode": {
    "name": "ipython",
    "version": 3
   },
   "file_extension": ".py",
   "mimetype": "text/x-python",
   "name": "python",
   "nbconvert_exporter": "python",
   "pygments_lexer": "ipython3",
   "version": "3.11.5"
  }
 },
 "nbformat": 4,
 "nbformat_minor": 5
}
