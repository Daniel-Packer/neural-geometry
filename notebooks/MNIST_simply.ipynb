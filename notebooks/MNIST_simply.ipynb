{
 "cells": [
  {
   "cell_type": "code",
   "execution_count": 1,
   "metadata": {},
   "outputs": [
    {
     "name": "stdout",
     "output_type": "stream",
     "text": [
      "/home/ext-daniel-packer/documents/noteboooks/neural-geometry\n"
     ]
    }
   ],
   "source": [
    "%load_ext autoreload\n",
    "%autoreload 2\n",
    "%cd .."
   ]
  },
  {
   "cell_type": "code",
   "execution_count": 2,
   "metadata": {},
   "outputs": [
    {
     "name": "stderr",
     "output_type": "stream",
     "text": [
      "2023-12-18 12:48:44.184380: E external/local_xla/xla/stream_executor/cuda/cuda_dnn.cc:9261] Unable to register cuDNN factory: Attempting to register factory for plugin cuDNN when one has already been registered\n",
      "2023-12-18 12:48:44.184455: E external/local_xla/xla/stream_executor/cuda/cuda_fft.cc:607] Unable to register cuFFT factory: Attempting to register factory for plugin cuFFT when one has already been registered\n",
      "2023-12-18 12:48:44.240633: E external/local_xla/xla/stream_executor/cuda/cuda_blas.cc:1515] Unable to register cuBLAS factory: Attempting to register factory for plugin cuBLAS when one has already been registered\n",
      "2023-12-18 12:48:45.978774: W tensorflow/compiler/tf2tensorrt/utils/py_utils.cc:38] TF-TRT Warning: Could not find TensorRT\n"
     ]
    },
    {
     "name": "stdout",
     "output_type": "stream",
     "text": [
      "\u001b[1mDownloading and preparing dataset Unknown size (download: Unknown size, generated: Unknown size, total: Unknown size) to /tmp/tfds/mnist/3.0.1...\u001b[0m\n"
     ]
    },
    {
     "name": "stderr",
     "output_type": "stream",
     "text": [
      "2023-12-18 12:48:49.055205: W tensorflow/core/common_runtime/gpu/gpu_device.cc:2256] Cannot dlopen some GPU libraries. Please make sure the missing libraries mentioned above are installed properly if you would like to use GPU. Follow the guide at https://www.tensorflow.org/install/gpu for how to download and setup the required libraries for your platform.\n",
      "Skipping registering GPU devices...\n",
      "2023-12-18 12:48:49.100356: W external/local_tsl/tsl/platform/cloud/google_auth_provider.cc:184] All attempts to get a Google authentication bearer token failed, returning an empty token. Retrieving token from files failed with \"NOT_FOUND: Could not locate the credentials file.\". Retrieving token from GCE failed with \"FAILED_PRECONDITION: Error executing an HTTP request: libcurl code 6 meaning 'Couldn't resolve host name', error details: Could not resolve host: metadata.google.internal\".\n"
     ]
    },
    {
     "data": {
      "application/vnd.jupyter.widget-view+json": {
       "model_id": "e37ad6eb32cd4c58a1c0b5480bcaaddf",
       "version_major": 2,
       "version_minor": 0
      },
      "text/plain": [
       "Dl Completed...: 0 url [00:00, ? url/s]"
      ]
     },
     "metadata": {},
     "output_type": "display_data"
    },
    {
     "data": {
      "application/vnd.jupyter.widget-view+json": {
       "model_id": "4813383195754cd3933629dc6b1e943a",
       "version_major": 2,
       "version_minor": 0
      },
      "text/plain": [
       "Dl Size...: 0 MiB [00:00, ? MiB/s]"
      ]
     },
     "metadata": {},
     "output_type": "display_data"
    },
    {
     "data": {
      "application/vnd.jupyter.widget-view+json": {
       "model_id": "6968fe26c06a45b4bb776f572a70539d",
       "version_major": 2,
       "version_minor": 0
      },
      "text/plain": [
       "Extraction completed...: 0 file [00:00, ? file/s]"
      ]
     },
     "metadata": {},
     "output_type": "display_data"
    },
    {
     "data": {
      "application/vnd.jupyter.widget-view+json": {
       "model_id": "7dcabe13c68041e4902f99dd2c24b963",
       "version_major": 2,
       "version_minor": 0
      },
      "text/plain": [
       "Generating splits...:   0%|          | 0/2 [00:00<?, ? splits/s]"
      ]
     },
     "metadata": {},
     "output_type": "display_data"
    },
    {
     "data": {
      "application/vnd.jupyter.widget-view+json": {
       "model_id": "4e2a0d86ae444d6680a919ba524d67f5",
       "version_major": 2,
       "version_minor": 0
      },
      "text/plain": [
       "Generating train examples...: 0 examples [00:00, ? examples/s]"
      ]
     },
     "metadata": {},
     "output_type": "display_data"
    },
    {
     "data": {
      "application/vnd.jupyter.widget-view+json": {
       "model_id": "7e2cef0def1245968503df4a9121f048",
       "version_major": 2,
       "version_minor": 0
      },
      "text/plain": [
       "Shuffling /tmp/tfds/mnist/3.0.1.incompleteFPPT88/mnist-train.tfrecord*...:   0%|          | 0/60000 [00:00<?, …"
      ]
     },
     "metadata": {},
     "output_type": "display_data"
    },
    {
     "data": {
      "application/vnd.jupyter.widget-view+json": {
       "model_id": "d0efd0a210fc428cab5ceeb443ac3316",
       "version_major": 2,
       "version_minor": 0
      },
      "text/plain": [
       "Generating test examples...: 0 examples [00:00, ? examples/s]"
      ]
     },
     "metadata": {},
     "output_type": "display_data"
    },
    {
     "data": {
      "application/vnd.jupyter.widget-view+json": {
       "model_id": "9915c7343a8441eaa51faad5e0700511",
       "version_major": 2,
       "version_minor": 0
      },
      "text/plain": [
       "Shuffling /tmp/tfds/mnist/3.0.1.incompleteFPPT88/mnist-test.tfrecord*...:   0%|          | 0/10000 [00:00<?, ?…"
      ]
     },
     "metadata": {},
     "output_type": "display_data"
    },
    {
     "name": "stdout",
     "output_type": "stream",
     "text": [
      "\u001b[1mDataset mnist downloaded and prepared to /tmp/tfds/mnist/3.0.1. Subsequent calls will reuse this data.\u001b[0m\n"
     ]
    }
   ],
   "source": [
    "from jax import random\n",
    "import jax.numpy as jnp\n",
    "from src.MNIST import init_network_params, load_data, train\n",
    "from src.MNIST import embed, batched_embed\n",
    "train_data, test_data, num_pixels, num_labels = load_data()"
   ]
  },
  {
   "cell_type": "code",
   "execution_count": 3,
   "metadata": {},
   "outputs": [],
   "source": [
    "layer_sizes_1 = [784, 512, 10, 512, 10]\n",
    "layer_sizes_2 = [784, 512, 10, 512, 10]\n",
    "params_1 = init_network_params(layer_sizes_1, random.PRNGKey(1))\n",
    "params_2 = init_network_params(layer_sizes_2, random.PRNGKey(2))"
   ]
  },
  {
   "cell_type": "code",
   "execution_count": null,
   "metadata": {
    "scrolled": true
   },
   "outputs": [
    {
     "name": "stdout",
     "output_type": "stream",
     "text": [
      "Epoch 0 in 4.74 sec\n",
      "Training set accuracy 0.9422500133514404\n",
      "Test set accuracy 0.9409999847412109\n",
      "Epoch 1 in 3.54 sec\n",
      "Training set accuracy 0.9671333432197571\n",
      "Test set accuracy 0.9628999829292297\n",
      "Epoch 2 in 3.67 sec\n",
      "Training set accuracy 0.9785833358764648\n",
      "Test set accuracy 0.9692999720573425\n",
      "Epoch 3 in 3.58 sec\n",
      "Training set accuracy 0.9845666885375977\n",
      "Test set accuracy 0.9745999574661255\n",
      "Epoch 4 in 3.60 sec\n",
      "Training set accuracy 0.9879833459854126\n",
      "Test set accuracy 0.9759999513626099\n",
      "Epoch 0 in 3.65 sec\n",
      "Training set accuracy 0.9914833307266235\n",
      "Test set accuracy 0.9792999625205994\n",
      "Epoch 1 in 3.56 sec\n",
      "Training set accuracy 0.9923999905586243\n",
      "Test set accuracy 0.9787999987602234\n",
      "Epoch 2 in 3.64 sec\n",
      "Training set accuracy 0.9931833148002625\n",
      "Test set accuracy 0.9791999459266663\n",
      "Epoch 3 in 3.66 sec\n",
      "Training set accuracy 0.9937999844551086\n",
      "Test set accuracy 0.9792999625205994\n",
      "Epoch 4 in 3.61 sec\n",
      "Training set accuracy 0.9941166639328003\n",
      "Test set accuracy 0.9795999526977539\n",
      "Epoch 0 in 3.62 sec\n",
      "Training set accuracy 0.9400666952133179\n",
      "Test set accuracy 0.9404000043869019\n",
      "Epoch 1 in 3.64 sec\n",
      "Training set accuracy 0.9691666960716248\n",
      "Test set accuracy 0.9625999927520752\n",
      "Epoch 2 in 3.54 sec\n",
      "Training set accuracy 0.9790000319480896\n",
      "Test set accuracy 0.9696999788284302\n",
      "Epoch 3 in 3.60 sec\n",
      "Training set accuracy 0.9851166605949402\n",
      "Test set accuracy 0.974399983882904\n",
      "Epoch 4 in 3.53 sec\n",
      "Training set accuracy 0.9880499839782715\n",
      "Test set accuracy 0.9741999506950378\n",
      "Epoch 0 in 3.53 sec\n",
      "Training set accuracy 0.9918500185012817\n",
      "Test set accuracy 0.976699948310852\n"
     ]
    }
   ],
   "source": [
    "num_epochs = 5\n",
    "batch_size = 128\n",
    "lr1, lr2 = 0.1, 0.01\n",
    "params_1 = train(params_1, num_epochs, batch_size, train_data, test_data, num_pixels, num_labels, lr1)\n",
    "params_1 = train(params_1, num_epochs, batch_size, train_data, test_data, num_pixels, num_labels, lr2)\n",
    "\n",
    "params_2 = train(params_2, num_epochs, batch_size, train_data, test_data, num_pixels, num_labels, lr1)\n",
    "params_2 = train(params_2, num_epochs, batch_size, train_data, test_data, num_pixels, num_labels, lr2)"
   ]
  },
  {
   "cell_type": "code",
   "execution_count": null,
   "metadata": {},
   "outputs": [],
   "source": [
    "train_embeddings_1 = batched_embed(params_1, train_data.images, 2)\n",
    "train_embeddings_2 = batched_embed(params_2, train_data.images, 2)\n",
    "print(f\"{train_embeddings_1.shape=}\")\n",
    "print(f\"{train_embeddings_2.shape=}\")"
   ]
  },
  {
   "cell_type": "code",
   "execution_count": null,
   "metadata": {},
   "outputs": [],
   "source": [
    "jnp.save(\"data/same_architecture_differet_initialization/train_embeddings_1\", train_embeddings_1)\n",
    "jnp.save(\"data/same_architecture_differet_initialization/train_embeddings_2\", train_embeddings_2)\n",
    "\n",
    "jnp.save(\"data/same_architecture_differet_initialization/train_labels\", train_data.labels)"
   ]
  },
  {
   "cell_type": "code",
   "execution_count": null,
   "metadata": {},
   "outputs": [],
   "source": []
  }
 ],
 "metadata": {
  "kernelspec": {
   "display_name": "Python (jax-env)",
   "language": "python",
   "name": "jaxkernel"
  },
  "language_info": {
   "codemirror_mode": {
    "name": "ipython",
    "version": 3
   },
   "file_extension": ".py",
   "mimetype": "text/x-python",
   "name": "python",
   "nbconvert_exporter": "python",
   "pygments_lexer": "ipython3",
   "version": "3.11.5"
  }
 },
 "nbformat": 4,
 "nbformat_minor": 4
}
